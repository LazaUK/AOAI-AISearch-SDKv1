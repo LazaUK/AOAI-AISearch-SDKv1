{
 "cells": [
  {
   "cell_type": "code",
   "execution_count": 1,
   "metadata": {},
   "outputs": [],
   "source": [
    "# Importing required packages\n",
    "import os\n",
    "from openai import AzureOpenAI"
   ]
  },
  {
   "cell_type": "code",
   "execution_count": 2,
   "metadata": {},
   "outputs": [],
   "source": [
    "# Extracting environment variables\n",
    "AOAI_API_BASE = os.getenv(\"AZURE_OPENAI_API_BASE\")\n",
    "AOAI_API_KEY = os.getenv(\"AZURE_OPENAI_API_KEY\")\n",
    "AOAI_API_VERSION = os.getenv(\"AZURE_OPENAI_API_VERSION\")\n",
    "AOAI_DEPLOYMENT = os.getenv(\"AZURE_OPENAI_API_DEPLOY\")\n",
    "\n",
    "SEARCH_API_BASE = os.getenv(\"AZURE_SEARCH_API_BASE\")\n",
    "SEARCH_API_INDEX = os.getenv(\"AZURE_SEARCH_API_INDEX\")\n",
    "SEARCH_API_KEY = os.getenv(\"AZURE_SEARCH_API_KEY\")"
   ]
  },
  {
   "cell_type": "code",
   "execution_count": 3,
   "metadata": {},
   "outputs": [],
   "source": [
    "# Initiating AzureOpenAI client\n",
    "client = AzureOpenAI(\n",
    "    azure_endpoint = AOAI_API_BASE,\n",
    "    api_key = AOAI_API_KEY,\n",
    "    api_version = AOAI_API_VERSION\n",
    ")"
   ]
  },
  {
   "cell_type": "code",
   "execution_count": 4,
   "metadata": {},
   "outputs": [
    {
     "name": "stdout",
     "output_type": "stream",
     "text": [
      "The Contoso health benefits are provided through the Northwind Health Plus plan, which offers comprehensive coverage for various medical services. Here are some key features of the plan:\n",
      "\n",
      "1. **Medical, Vision, and Dental Services**: The plan covers a wide range of medical services, including vision and dental care [doc5].\n",
      "\n",
      "2. **Prescription Drug Coverage**: Northwind Health Plus includes coverage for prescription medications, with costs varying based on the medication tier [doc5].\n",
      "\n",
      "3. **Mental Health and Substance Abuse Coverage**: The plan provides coverage for mental health and substance abuse services, generally aligning with medical and surgical service coverage [doc5].\n",
      "\n",
      "4. **Preventive Care Services**: Preventive services, such as immunizations and screenings, are covered at no cost to the employee, although deductibles and coinsurance may apply [doc5].\n",
      "\n",
      "5. **Emergency Services**: Coverage is available for emergency services, both in-network and out-of-network [doc5].\n",
      "\n",
      "6. **Specialized Treatments**: The plan covers treatments such as chemotherapy, radiation therapy, dialysis, and allergy testing and treatment, with some exceptions for experimental or non-medically necessary services [doc1][doc2][doc4].\n",
      "\n",
      "7. **Balance Billing Protection**: Employees are protected from balance billing, ensuring they are not charged more than the allowed amount for services, although this does not apply to out-of-network providers [doc3].\n",
      "\n",
      "8. **Clinical Trials**: Certain clinical trials are covered under the plan, recognizing their potential for life-saving treatments [doc1].\n",
      "\n",
      "For more detailed information about specific services and coverage limits, employees are encouraged to review the Northwind Health Plus plan document or contact Member Services.\n"
     ]
    }
   ],
   "source": [
    "# Getting AI-search powered completions\n",
    "completion = client.chat.completions.create(\n",
    "    model = AOAI_DEPLOYMENT,\n",
    "    messages=[\n",
    "        {\n",
    "            \"role\": \"system\",\n",
    "            \"content\": \"You are an AI assistant that helps people find information.\"\n",
    "        },\n",
    "        {\n",
    "            \"role\": \"user\",\n",
    "            \"content\": \"What are the Contoso health benefits?\",\n",
    "        },\n",
    "    ],\n",
    "    extra_body={\n",
    "        \"data_sources\":[\n",
    "            {\n",
    "                \"type\": \"azure_search\",\n",
    "                \"parameters\": {\n",
    "                    \"endpoint\": SEARCH_API_BASE,\n",
    "                    \"index_name\": SEARCH_API_INDEX,\n",
    "                    \"authentication\": {\n",
    "                        \"type\": \"api_key\",\n",
    "                        \"key\": SEARCH_API_KEY\n",
    "                    }\n",
    "                }\n",
    "            }\n",
    "        ],\n",
    "    }\n",
    ")\n",
    "\n",
    "# print(completion.choices[0].message.model_dump_json(indent=2))\n",
    "print(completion.choices[0].message.content)"
   ]
  }
 ],
 "metadata": {
  "kernelspec": {
   "display_name": "Python 3",
   "language": "python",
   "name": "python3"
  },
  "language_info": {
   "codemirror_mode": {
    "name": "ipython",
    "version": 3
   },
   "file_extension": ".py",
   "mimetype": "text/x-python",
   "name": "python",
   "nbconvert_exporter": "python",
   "pygments_lexer": "ipython3",
   "version": "3.11.9"
  }
 },
 "nbformat": 4,
 "nbformat_minor": 2
}
